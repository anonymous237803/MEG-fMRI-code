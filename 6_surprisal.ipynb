{
 "cells": [
  {
   "cell_type": "code",
   "execution_count": 1,
   "metadata": {},
   "outputs": [
    {
     "data": {
      "text/plain": [
       "'cuda'"
      ]
     },
     "execution_count": 1,
     "metadata": {},
     "output_type": "execute_result"
    }
   ],
   "source": [
    "import torch\n",
    "from torch.utils.data import DataLoader\n",
    "import mne\n",
    "import os\n",
    "import numpy as np\n",
    "import pickle\n",
    "import matplotlib.pyplot as plt\n",
    "from model import *\n",
    "from dataset import *\n",
    "from utils import *\n",
    "from train import *\n",
    "\n",
    "# Check if GPU is available\n",
    "os.environ[\"CUDA_VISIBLE_DEVICES\"] = \"0\"\n",
    "device = \"cuda\" if torch.cuda.is_available() else \"cpu\"\n",
    "torch.cuda.empty_cache()\n",
    "device"
   ]
  },
  {
   "cell_type": "code",
   "execution_count": 2,
   "metadata": {},
   "outputs": [],
   "source": [
    "def corr_multi_torch(y_true, y_pred, dim=0):\n",
    "    \"\"\"\n",
    "    Compute correlation between y_true and y_pred per target dimension.\n",
    "    Inputs: (n_samples, n_targets)\n",
    "    \"\"\"\n",
    "    y_true_z = zscore_tensor(y_true, dim=dim)\n",
    "    y_pred_z = zscore_tensor(y_pred, dim=dim)\n",
    "\n",
    "    return torch.mean(y_true_z * y_pred_z, dim=dim)"
   ]
  },
  {
   "cell_type": "code",
   "execution_count": 3,
   "metadata": {},
   "outputs": [],
   "source": [
    "train_story_list = dict(\n",
    "    Moth1=[\"souls\", \"avatar\", \"legacy\", \"odetostepfather\"],\n",
    "    Moth2=[\"howtodraw\", \"myfirstdaywiththeyankees\", \"naked\", \"life\"],\n",
    "    Moth3=[\"tildeath\", \"fromboyhoodtofatherhood\", \"sloth\", \"exorcism\"],\n",
    "    Moth4=[\"adollshouse\", \"inamoment\", \"theclosetthatateeverything\", \"adventuresinsayingyes\", \"haveyoumethimyet\"],\n",
    "    Moth5=[\"thatthingonmyarm\", \"eyespy\", \"itsabox\", \"hangtime\"],\n",
    ")\n",
    "train_stories = [story for session in train_story_list.keys() for story in train_story_list[session]]\n",
    "val_stories = [[\"swimmingwithastronauts1\", \"swimmingwithastronauts2\"]]"
   ]
  },
  {
   "cell_type": "code",
   "execution_count": 4,
   "metadata": {},
   "outputs": [
    {
     "data": {
      "text/plain": [
       "['alternateithicatom1',\n",
       " 'souls',\n",
       " 'wheretheressmoke1',\n",
       " 'avatar',\n",
       " 'legacy',\n",
       " 'odetostepfather',\n",
       " 'undertheinfluence1',\n",
       " 'howtodraw',\n",
       " 'myfirstdaywiththeyankees',\n",
       " 'naked',\n",
       " 'life',\n",
       " 'stagefright1',\n",
       " 'tildeath',\n",
       " 'fromboyhoodtofatherhood',\n",
       " 'sloth',\n",
       " 'exorcism',\n",
       " 'buck1',\n",
       " 'adollshouse',\n",
       " 'inamoment',\n",
       " 'theclosetthatateeverything',\n",
       " 'adventuresinsayingyes',\n",
       " 'haveyoumethimyet',\n",
       " 'swimmingwithastronauts1',\n",
       " 'thatthingonmyarm',\n",
       " 'eyespy',\n",
       " 'itsabox',\n",
       " 'hangtime']"
      ]
     },
     "execution_count": 4,
     "metadata": {},
     "output_type": "execute_result"
    }
   ],
   "source": [
    "# let test stories be all 27 stories\n",
    "with open(\"data/story_to_uniquestory.pkl\", \"rb\") as f:\n",
    "    story_to_uniquestory = pickle.load(f)\n",
    "test_stories = list(story_to_uniquestory.keys())\n",
    "test_stories = [s for s in test_stories if s != \"stimuli_auditory_localizer\" and not s[-1] in [\"2\", \"3\", \"4\", \"5\"]]\n",
    "test_stories"
   ]
  },
  {
   "cell_type": "code",
   "execution_count": 5,
   "metadata": {},
   "outputs": [],
   "source": [
    "# config\n",
    "name = \"WdPnFq-seg8-flexconv4-A\"\n",
    "which = \"val-loss-min\"\n",
    "SAVEFIG = False\n",
    "\n",
    "with open(f\"config/{name}.yaml\", \"r\") as f:\n",
    "    config = yaml.safe_load(f)\n",
    "MEG_SUBJECT = config[\"MEG_SUBJECT\"]\n",
    "FMRI_SUBJECT = config[\"FMRI_SUBJECT\"]\n",
    "use_segment = config[\"use_segment\"]\n",
    "spacing = config[\"spacing\"]\n",
    "meg_loss_weight = config[\"meg_loss_weight\"]\n",
    "fmri_loss_weight = config[\"fmri_loss_weight\"]\n",
    "softmax_T = config[\"softmax_T\"]\n",
    "dataset_params = config[\"dataset\"]\n",
    "model_params = config[\"model\"]"
   ]
  },
  {
   "cell_type": "markdown",
   "metadata": {},
   "source": [
    "## Dataset"
   ]
  },
  {
   "cell_type": "code",
   "execution_count": 6,
   "metadata": {},
   "outputs": [
    {
     "name": "stdout",
     "output_type": "stream",
     "text": [
      "use_word: True, use_phoneme: True, use_freq: True, use_meg: False, use_mri: False\n",
      "embed_dim:  852\n",
      "use_word: True, use_phoneme: True, use_freq: True, use_meg: False, use_mri: False\n",
      "embed_dim:  852\n",
      "Loading story swimmingwithastronauts1...\n"
     ]
    },
    {
     "name": "stdout",
     "output_type": "stream",
     "text": [
      "Finished loading story swimmingwithastronauts1!\n",
      "Loading story swimmingwithastronauts2...\n",
      "Finished loading story swimmingwithastronauts2!\n",
      "Preloaded all stories!\n",
      "use_word: True, use_phoneme: True, use_freq: True, use_meg: False, use_mri: False\n",
      "embed_dim:  852\n",
      "Loading story alternateithicatom1...\n",
      "Finished loading story alternateithicatom1!\n",
      "Loading story souls...\n",
      "Finished loading story souls!\n",
      "Loading story wheretheressmoke1...\n",
      "Finished loading story wheretheressmoke1!\n",
      "Loading story avatar...\n",
      "Finished loading story avatar!\n",
      "Loading story legacy...\n",
      "Finished loading story legacy!\n",
      "Loading story odetostepfather...\n",
      "Finished loading story odetostepfather!\n",
      "Loading story undertheinfluence1...\n",
      "Finished loading story undertheinfluence1!\n",
      "Loading story howtodraw...\n",
      "Finished loading story howtodraw!\n",
      "Loading story myfirstdaywiththeyankees...\n",
      "Finished loading story myfirstdaywiththeyankees!\n",
      "Loading story naked...\n",
      "Finished loading story naked!\n",
      "Loading story life...\n",
      "Finished loading story life!\n",
      "Loading story stagefright1...\n",
      "Finished loading story stagefright1!\n",
      "Loading story tildeath...\n",
      "Finished loading story tildeath!\n",
      "Loading story fromboyhoodtofatherhood...\n",
      "Finished loading story fromboyhoodtofatherhood!\n",
      "Loading story sloth...\n",
      "Finished loading story sloth!\n",
      "Loading story exorcism...\n",
      "Finished loading story exorcism!\n",
      "Loading story buck1...\n",
      "Finished loading story buck1!\n",
      "Loading story adollshouse...\n",
      "Finished loading story adollshouse!\n",
      "Loading story inamoment...\n",
      "Finished loading story inamoment!\n",
      "Loading story theclosetthatateeverything...\n",
      "Finished loading story theclosetthatateeverything!\n",
      "Loading story adventuresinsayingyes...\n",
      "Finished loading story adventuresinsayingyes!\n",
      "Loading story haveyoumethimyet...\n",
      "Finished loading story haveyoumethimyet!\n",
      "Loading story swimmingwithastronauts1...\n",
      "Finished loading story swimmingwithastronauts1!\n",
      "Loading story thatthingonmyarm...\n",
      "Finished loading story thatthingonmyarm!\n",
      "Loading story eyespy...\n",
      "Finished loading story eyespy!\n",
      "Loading story itsabox...\n",
      "Finished loading story itsabox!\n",
      "Loading story hangtime...\n",
      "Finished loading story hangtime!\n",
      "Preloaded all stories!\n"
     ]
    }
   ],
   "source": [
    "train_dataset = StoryDataset(\n",
    "    MEG_SUBJECT,\n",
    "    FMRI_SUBJECT,\n",
    "    train_stories[0:1],\n",
    "    name=name,\n",
    "    spacing=spacing,\n",
    "    preload=False,\n",
    "    **dataset_params,\n",
    ")  # evalulate don't care this\n",
    "val_dataset = StoryDataset(\n",
    "    MEG_SUBJECT,\n",
    "    FMRI_SUBJECT,\n",
    "    val_stories,\n",
    "    name=name,\n",
    "    spacing=spacing,\n",
    "    pca_meg=train_dataset.pca_meg,\n",
    "    pca_mri=train_dataset.pca_mri,\n",
    "    **dataset_params,\n",
    ")\n",
    "test_dataset = StoryDataset(\n",
    "    MEG_SUBJECT,\n",
    "    FMRI_SUBJECT,\n",
    "    test_stories,\n",
    "    name=name,\n",
    "    spacing=spacing,\n",
    "    pca_meg=train_dataset.pca_meg,\n",
    "    pca_mri=train_dataset.pca_mri,\n",
    "    MEG_DIR=\"moth_meg\",\n",
    "    **dataset_params,\n",
    ")\n",
    "embed_dim = test_dataset.embed_dim"
   ]
  },
  {
   "cell_type": "markdown",
   "metadata": {},
   "source": [
    "## Lead Field"
   ]
  },
  {
   "cell_type": "code",
   "execution_count": 7,
   "metadata": {},
   "outputs": [
    {
     "name": "stdout",
     "output_type": "stream",
     "text": [
      "Reading forward solution from /home/yishuli/MEG-fMRI/data/A-oct6-fwd.fif...\n",
      "    Reading a source space...\n",
      "    Computing patch statistics...\n",
      "    Patch information added...\n",
      "    [done]\n",
      "    Reading a source space...\n",
      "    Computing patch statistics...\n",
      "    Patch information added...\n",
      "    [done]\n",
      "    2 source spaces read\n",
      "    Desired named matrix (kind = 3523 (FIFF_MNE_FORWARD_SOLUTION_GRAD)) not available\n",
      "    Read MEG forward solution (8196 sources, 306 channels, free orientations)\n",
      "    Source spaces transformed to the forward solution coordinate frame\n",
      "    Average patch normals will be employed in the rotation to the local surface coordinates....\n",
      "    Converting to surface-based source orientations...\n",
      "    [done]\n"
     ]
    },
    {
     "data": {
      "text/plain": [
       "(306, 8196)"
      ]
     },
     "execution_count": 7,
     "metadata": {},
     "output_type": "execute_result"
    }
   ],
   "source": [
    "# load forward solution to get the lead field\n",
    "fname_fwd = f\"data/{MEG_SUBJECT}-{spacing}-fwd.fif\"\n",
    "fwd = mne.read_forward_solution(fname_fwd)\n",
    "fwd_fixed = mne.convert_forward_solution(fwd, surf_ori=True, force_fixed=True, use_cps=True)  # let's do fixed orientation\n",
    "lead_field = fwd_fixed[\"sol\"][\"data\"]\n",
    "lead_field = torch.from_numpy(lead_field)\n",
    "n_channels, n_neurons = lead_field.shape\n",
    "n_channels, n_neurons"
   ]
  },
  {
   "cell_type": "markdown",
   "metadata": {},
   "source": [
    "## Get Sources"
   ]
  },
  {
   "cell_type": "code",
   "execution_count": 8,
   "metadata": {},
   "outputs": [
    {
     "name": "stdout",
     "output_type": "stream",
     "text": [
      "(68, 1.0055146501442056, 0.07546357089945342, 0.9299632706765684)\n"
     ]
    }
   ],
   "source": [
    "model = TransformerSourceModel(\n",
    "    embed_dim=embed_dim,\n",
    "    lead_field=lead_field,\n",
    "    **model_params,\n",
    ").to(device)\n",
    "ckpt_path = f\"trained_models/{name}_{which}.pth\"\n",
    "info = load_checkpoint(ckpt_path, model, None, None, device=device)\n",
    "print(info)"
   ]
  },
  {
   "cell_type": "code",
   "execution_count": 9,
   "metadata": {},
   "outputs": [
    {
     "name": "stdout",
     "output_type": "stream",
     "text": [
      "val_meg_loss: 0.07466866387896606, val_fmri_loss: 0.9308459862652395\n"
     ]
    }
   ],
   "source": [
    "val_dataloader = DataLoader(val_dataset, batch_size=1, shuffle=False)\n",
    "with torch.no_grad():\n",
    "    validate(\n",
    "        model,\n",
    "        val_dataloader,\n",
    "        device,\n",
    "        subject=MEG_SUBJECT,\n",
    "        meg_loss_weight=meg_loss_weight,\n",
    "        fmri_loss_weight=fmri_loss_weight,\n",
    "        softmax_T=softmax_T,\n",
    "    )"
   ]
  },
  {
   "cell_type": "code",
   "execution_count": 10,
   "metadata": {},
   "outputs": [],
   "source": [
    "model.eval()\n",
    "neurons_dict, neurons_power_dict = {}, {}\n",
    "\n",
    "for i in range(len(test_dataset)):\n",
    "    # load data\n",
    "    embeds, _, _ = test_dataset[i]\n",
    "    embeds = embeds.to(device)\n",
    "    # foward pass\n",
    "    with torch.no_grad():\n",
    "        neurons, _, _ = model(embeds.unsqueeze(0))\n",
    "        neurons = neurons.squeeze(0).detach().cpu()\n",
    "        # calculate power\n",
    "        neurons_power = hilbert_torch(neurons, dim=0)\n",
    "        neurons_power = neurons_power.abs()\n",
    "        neurons_power.pow_(2)\n",
    "        # zscore\n",
    "        neurons = zscore_tensor(torch.abs(neurons), dim=0).numpy()\n",
    "        neurons_power = zscore_tensor(neurons_power, dim=0).numpy()\n",
    "    neurons_dict[test_stories[i]] = neurons\n",
    "    neurons_power_dict[test_stories[i]] = neurons_power\n",
    "    # save memory\n",
    "    del embeds\n",
    "    torch.cuda.empty_cache()"
   ]
  },
  {
   "cell_type": "markdown",
   "metadata": {},
   "source": [
    "## Load Surprisal"
   ]
  },
  {
   "cell_type": "code",
   "execution_count": 11,
   "metadata": {},
   "outputs": [],
   "source": [
    "# load grid transcript\n",
    "with open(\"data/moth_word_surprisal_context20.pkl\", \"rb\") as fp:\n",
    "    story_word_surprisal_dict = pickle.load(fp)"
   ]
  },
  {
   "cell_type": "code",
   "execution_count": 12,
   "metadata": {},
   "outputs": [],
   "source": [
    "all_surprisals = []\n",
    "for story in story_word_surprisal_dict.keys():\n",
    "    story_word_surprisal = story_word_surprisal_dict[story]\n",
    "    all_surprisals.extend([t[-2] for t in story_word_surprisal])"
   ]
  },
  {
   "cell_type": "code",
   "execution_count": 13,
   "metadata": {},
   "outputs": [
    {
     "data": {
      "image/png": "[encoded data removed]",
      "text/plain": [
       "<Figure size 640x480 with 1 Axes>"
      ]
     },
     "metadata": {},
     "output_type": "display_data"
    }
   ],
   "source": [
    "# plot a histogram of the surprisal\n",
    "plt.hist(all_surprisals, bins=100)\n",
    "plt.show()"
   ]
  },
  {
   "cell_type": "markdown",
   "metadata": {},
   "source": [
    "## Get Word Response"
   ]
  },
  {
   "cell_type": "code",
   "execution_count": 14,
   "metadata": {},
   "outputs": [],
   "source": [
    "# loading textgrids\n",
    "words = dict()\n",
    "word_onset = dict()\n",
    "word_surprisal = dict()\n",
    "DEFAULT_BAD_WORDS = [\"sentence_start\", \"sentence_end\", \"{SL}\", \"{{BR}\", \"{BR}\", \"(BR}\", \"{BR\", \"{LG}\", \"{ls}\", \"{LS}\", \"{IG}\", \"{CG}\", \"{LS)\", \"{NS}\", \"{NS_AP}\", \"{SP}\", \"sp\", \"\", \" \"]\n",
    "content_pos = [\"NOUN\"]\n",
    "\n",
    "for this_story in test_stories:\n",
    "    this_story_unique = story_to_uniquestory[this_story]\n",
    "    story_word_surprisal = story_word_surprisal_dict[this_story_unique]\n",
    "    # correct delay\n",
    "    time_features = [tuple([float(t[0]), float(t[1])] + list(t[2:])) for t in story_word_surprisal]\n",
    "    time_features_corrected = get_stretched_features(time_features, MEG_SUBJECT, None, None, use_mean_rate=True)\n",
    "    words_this_story, word_onset_this_story, word_surprisal_this_story = [], [], []\n",
    "    for t in time_features_corrected:\n",
    "        if t[2] in DEFAULT_BAD_WORDS or t[-1] not in content_pos:\n",
    "            continue\n",
    "        else:\n",
    "            word_onset_this_story.append(float(t[0]))\n",
    "            words_this_story.append(t[2])\n",
    "            word_surprisal_this_story.append(float(t[-2]))\n",
    "    words[this_story] = words_this_story\n",
    "    word_onset[this_story] = np.array(word_onset_this_story)\n",
    "    word_surprisal[this_story] = np.array(word_surprisal_this_story)\n",
    "\n",
    "del story_word_surprisal_dict, story_word_surprisal, time_features, time_features_corrected"
   ]
  },
  {
   "cell_type": "markdown",
   "metadata": {},
   "source": [
    "## Get Correlation"
   ]
  },
  {
   "cell_type": "code",
   "execution_count": 15,
   "metadata": {},
   "outputs": [],
   "source": [
    "# define lags\n",
    "sfreq = 50\n",
    "step = int(1000 / sfreq)  # 20ms\n",
    "lag_sample_start = -10\n",
    "lag_sample_end = 50\n",
    "lag_samples = np.arange(lag_sample_start, lag_sample_end + 1)\n",
    "lags = lag_samples * step"
   ]
  },
  {
   "cell_type": "code",
   "execution_count": 16,
   "metadata": {},
   "outputs": [],
   "source": [
    "# get neuron response for each word onset\n",
    "neurons_onset, neurons_power_onset = [], []\n",
    "surprisals = []\n",
    "for story in test_stories:\n",
    "    word_onset_story = word_onset[story]\n",
    "    word_surprisal_story = word_surprisal[story]\n",
    "    neurons_story = neurons_dict[story]\n",
    "    neurons_power_story = neurons_power_dict[story]\n",
    "    for t, s in zip(word_onset_story, word_surprisal_story):\n",
    "        t_sample = int(t * 50)\n",
    "        t_sample_start = t_sample + lag_sample_start\n",
    "        t_sample_end = t_sample + lag_sample_end + 1\n",
    "        if t_sample_start > 0 and t_sample_end < neurons_power_story.shape[0]:\n",
    "            neurons_onset.append(neurons_story[t_sample_start:t_sample_end, :])\n",
    "            neurons_power_onset.append(neurons_power_story[t_sample_start:t_sample_end, :])\n",
    "            surprisals.append(s)\n",
    "neurons_onset = np.stack(neurons_onset)\n",
    "neurons_power_onset = np.stack(neurons_power_onset)\n",
    "surprisals = np.array(surprisals)"
   ]
  },
  {
   "cell_type": "code",
   "execution_count": 17,
   "metadata": {},
   "outputs": [
    {
     "data": {
      "text/plain": [
       "((13627, 61, 8196), (13627, 61, 8196), (13627,))"
      ]
     },
     "execution_count": 17,
     "metadata": {},
     "output_type": "execute_result"
    }
   ],
   "source": [
    "neurons_onset.shape, neurons_power_onset.shape, surprisals.shape"
   ]
  },
  {
   "cell_type": "code",
   "execution_count": 18,
   "metadata": {},
   "outputs": [],
   "source": [
    "del neurons_dict, neurons_power_dict"
   ]
  },
  {
   "cell_type": "code",
   "execution_count": 19,
   "metadata": {},
   "outputs": [],
   "source": [
    "# correlate surprisal with neuron response\n",
    "from scipy.stats import pearsonr\n",
    "\n",
    "neurons_onset_corrs = np.zeros((neurons_onset.shape[1], neurons_onset.shape[2]))\n",
    "neurons_onset_ps = np.zeros((neurons_onset.shape[1], neurons_onset.shape[2]))\n",
    "neurons_power_onset_corrs = np.zeros((neurons_power_onset.shape[1], neurons_power_onset.shape[2]))\n",
    "neurons_power_onset_ps = np.zeros((neurons_power_onset.shape[1], neurons_power_onset.shape[2]))\n",
    "\n",
    "for i in range(neurons_onset.shape[1]):\n",
    "    for j in range(neurons_onset.shape[2]):\n",
    "        corr, p = pearsonr(neurons_onset[:, i, j], surprisals)\n",
    "        neurons_onset_corrs[i, j] = corr\n",
    "        neurons_onset_ps[i, j] = p\n",
    "        corr_power, p_power = pearsonr(neurons_power_onset[:, i, j], surprisals)\n",
    "        neurons_power_onset_corrs[i, j] = corr_power\n",
    "        neurons_power_onset_ps[i, j] = p_power"
   ]
  },
  {
   "cell_type": "code",
   "execution_count": 20,
   "metadata": {},
   "outputs": [],
   "source": [
    "p_thresh = 1e-50\n",
    "neurons_onset_ps_corrected = fdr_correction(neurons_onset_ps, alpha=p_thresh, method=\"bh\")[1]\n",
    "\n",
    "# thresh corr\n",
    "neurons_onset_corrs_thresh = neurons_onset_corrs.copy()\n",
    "neurons_onset_corrs_thresh[neurons_onset_ps_corrected > p_thresh] = 0\n",
    "\n",
    "# thresh p\n",
    "neurons_onset_ps_corrected[neurons_onset_ps_corrected > p_thresh] = 1"
   ]
  }
 ],
 "metadata": {
  "kernelspec": {
   "display_name": "meg_torch",
   "language": "python",
   "name": "python3"
  },
  "language_info": {
   "codemirror_mode": {
    "name": "ipython",
    "version": 3
   },
   "file_extension": ".py",
   "mimetype": "text/x-python",
   "name": "python",
   "nbconvert_exporter": "python",
   "pygments_lexer": "ipython3",
   "version": "3.9.21"
  }
 },
 "nbformat": 4,
 "nbformat_minor": 2
}
