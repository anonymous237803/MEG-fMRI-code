{
 "cells": [
  {
   "cell_type": "code",
   "execution_count": 7,
   "metadata": {},
   "outputs": [],
   "source": [
    "import numpy as np\n",
    "import os\n",
    "import pickle\n",
    "import matplotlib.pyplot as plt\n",
    "from scipy.stats import zscore\n",
    "from sklearn.decomposition import PCA\n",
    "from utils import *\n",
    "from dataset import create_file_path_dict\n",
    "import mne\n",
    "from sklearn.preprocessing import StandardScaler"
   ]
  },
  {
   "cell_type": "code",
   "execution_count": 8,
   "metadata": {},
   "outputs": [],
   "source": [
    "MEG_SUBJECT = \"A\"\n",
    "FMRI_SUBJECT = f\"UTavg-to-Moth_{MEG_SUBJECT}\"\n",
    "SAVEFIG = False\n",
    "\n",
    "DATASET_DIR = \"/data/story_dataset\"  # change to your dataset path\n",
    "FMRI_DIR = \"src_fmri\"\n",
    "spacing = \"oct6\""
   ]
  },
  {
   "cell_type": "code",
   "execution_count": 9,
   "metadata": {},
   "outputs": [],
   "source": [
    "TRAIN_SESSIONS = [\"Moth1\", \"Moth2\", \"Moth3\", \"Moth4\", \"Moth5\"]\n",
    "TEST_SESSIONS = [\"Moth2\", \"Moth3\", \"Moth4\", \"Moth5\"]\n",
    "train_story_list = dict(\n",
    "    Moth1=[\"souls\", \"avatar\", \"legacy\", \"odetostepfather\"],\n",
    "    Moth2=[\"howtodraw\", \"myfirstdaywiththeyankees\", \"naked\", \"life\"],\n",
    "    Moth3=[\"tildeath\", \"fromboyhoodtofatherhood\", \"sloth\", \"exorcism\"],\n",
    "    Moth4=[\"adollshouse\", \"inamoment\", \"theclosetthatateeverything\", \"adventuresinsayingyes\", \"haveyoumethimyet\"],\n",
    "    Moth5=[\"thatthingonmyarm\", \"eyespy\", \"itsabox\", \"hangtime\"],\n",
    ")\n",
    "train_stories = [story for session in TRAIN_SESSIONS for story in train_story_list[session]]\n",
    "test_story_list = dict(\n",
    "    Moth1=[\"alternateithicatom1\", \"alternateithicatom2\"],\n",
    "    Moth2=[\"undertheinfluence1\", \"undertheinfluence2\"],\n",
    "    Moth3=[\"stagefright1\", \"stagefright2\"],\n",
    "    Moth4=[\"buck1\", \"buck2\"],\n",
    "    Moth5=[\"swimmingwithastronauts1\", \"swimmingwithastronauts2\"],\n",
    ")\n",
    "test_stories = [story for session in TEST_SESSIONS for story in test_story_list[session] if story.endswith(\"1\")]  # we only need one"
   ]
  },
  {
   "cell_type": "code",
   "execution_count": 10,
   "metadata": {},
   "outputs": [],
   "source": [
    "# we need path of design matrix\n",
    "file_path_dict = create_file_path_dict(MEG_SUBJECT, FMRI_SUBJECT, train_stories, DATASET_DIR=DATASET_DIR)"
   ]
  },
  {
   "cell_type": "code",
   "execution_count": 11,
   "metadata": {},
   "outputs": [
    {
     "name": "stdout",
     "output_type": "stream",
     "text": [
      "{'stimuli_auditory_localizer': 'stimuli_auditory_localizer', 'alternateithicatom1': 'alternateithicatom', 'souls': 'souls', 'wheretheressmoke1': 'wheretheressmoke', 'avatar': 'avatar', 'legacy': 'legacy', 'odetostepfather': 'odetostepfather', 'alternateithicatom2': 'alternateithicatom', 'undertheinfluence1': 'undertheinfluence', 'howtodraw': 'howtodraw', 'myfirstdaywiththeyankees': 'myfirstdaywiththeyankees', 'wheretheressmoke2': 'wheretheressmoke', 'naked': 'naked', 'life': 'life', 'undertheinfluence2': 'undertheinfluence', 'stagefright1': 'stagefright', 'tildeath': 'tildeath', 'wheretheressmoke3': 'wheretheressmoke', 'fromboyhoodtofatherhood': 'fromboyhoodtofatherhood', 'sloth': 'sloth', 'exorcism': 'exorcism', 'stagefright2': 'stagefright', 'buck1': 'buck', 'adollshouse': 'adollshouse', 'wheretheressmoke4': 'wheretheressmoke', 'inamoment': 'inamoment', 'theclosetthatateeverything': 'theclosetthatateeverything', 'adventuresinsayingyes': 'adventuresinsayingyes', 'haveyoumethimyet': 'haveyoumethimyet', 'buck2': 'buck', 'swimmingwithastronauts1': 'swimmingwithastronauts', 'thatthingonmyarm': 'thatthingonmyarm', 'eyespy': 'eyespy', 'wheretheressmoke5': 'wheretheressmoke', 'itsabox': 'itsabox', 'hangtime': 'hangtime', 'swimmingwithastronauts2': 'swimmingwithastronauts'}\n"
     ]
    }
   ],
   "source": [
    "# story to unique story mapping\n",
    "with open(\"data/story_to_uniquestory.pkl\", \"rb\") as f:\n",
    "    story_to_uniquestory = pickle.load(f)\n",
    "print(story_to_uniquestory)"
   ]
  },
  {
   "cell_type": "code",
   "execution_count": 12,
   "metadata": {},
   "outputs": [
    {
     "data": {
      "text/plain": [
       "['souls',\n",
       " 'avatar',\n",
       " 'legacy',\n",
       " 'odetostepfather',\n",
       " 'howtodraw',\n",
       " 'myfirstdaywiththeyankees',\n",
       " 'naked',\n",
       " 'life',\n",
       " 'tildeath',\n",
       " 'fromboyhoodtofatherhood',\n",
       " 'sloth',\n",
       " 'exorcism',\n",
       " 'adollshouse',\n",
       " 'inamoment',\n",
       " 'theclosetthatateeverything',\n",
       " 'adventuresinsayingyes',\n",
       " 'haveyoumethimyet',\n",
       " 'thatthingonmyarm',\n",
       " 'eyespy',\n",
       " 'itsabox',\n",
       " 'hangtime',\n",
       " 'undertheinfluence1',\n",
       " 'stagefright1',\n",
       " 'buck1',\n",
       " 'swimmingwithastronauts1']"
      ]
     },
     "execution_count": 12,
     "metadata": {},
     "output_type": "execute_result"
    }
   ],
   "source": [
    "all_stories = train_stories + test_stories\n",
    "all_stories"
   ]
  },
  {
   "cell_type": "markdown",
   "metadata": {},
   "source": [
    "## Prepare fMRI Data"
   ]
  },
  {
   "cell_type": "code",
   "execution_count": 13,
   "metadata": {},
   "outputs": [
    {
     "name": "stdout",
     "output_type": "stream",
     "text": [
      "story souls: \t355 TRs\t 8196 voxels\n",
      "story avatar: \t367 TRs\t 8196 voxels\n",
      "story legacy: \t400 TRs\t 8196 voxels\n",
      "story odetostepfather: \t404 TRs\t 8196 voxels\n",
      "story howtodraw: \t354 TRs\t 8196 voxels\n",
      "story myfirstdaywiththeyankees: \t358 TRs\t 8196 voxels\n",
      "story naked: \t422 TRs\t 8196 voxels\n",
      "story life: \t430 TRs\t 8196 voxels\n",
      "story tildeath: \t323 TRs\t 8196 voxels\n",
      "story fromboyhoodtofatherhood: \t348 TRs\t 8196 voxels\n",
      "story sloth: \t437 TRs\t 8196 voxels\n",
      "story exorcism: \t467 TRs\t 8196 voxels\n",
      "story adollshouse: \t241 TRs\t 8196 voxels\n",
      "story inamoment: \t205 TRs\t 8196 voxels\n",
      "story theclosetthatateeverything: \t314 TRs\t 8196 voxels\n",
      "story adventuresinsayingyes: \t391 TRs\t 8196 voxels\n",
      "story haveyoumethimyet: \t496 TRs\t 8196 voxels\n",
      "story thatthingonmyarm: \t434 TRs\t 8196 voxels\n",
      "story eyespy: \t379 TRs\t 8196 voxels\n",
      "story itsabox: \t355 TRs\t 8196 voxels\n",
      "story hangtime: \t324 TRs\t 8196 voxels\n",
      "story undertheinfluence1: \t304 TRs\t 8196 voxels\n",
      "story stagefright1: \t293 TRs\t 8196 voxels\n",
      "story buck1: \t332 TRs\t 8196 voxels\n",
      "story swimmingwithastronauts1: \t385 TRs\t 8196 voxels\n"
     ]
    }
   ],
   "source": [
    "# load fMRI data, which is nTRs * nVoxels for each story\n",
    "data_file_template = f\"{DATASET_DIR}/{FMRI_DIR}/{spacing}/{FMRI_SUBJECT}_{{}}\"\n",
    "fmri_data_dict = dict()\n",
    "for story in all_stories:\n",
    "    this_story_unique = story_to_uniquestory[story]\n",
    "    stc_fmri = mne.read_source_estimate(data_file_template.format(this_story_unique))\n",
    "    tmp_data = stc_fmri.data.T\n",
    "    if np.any(np.isnan(tmp_data)):\n",
    "        print(f\"story {story} has nan\")\n",
    "        tmp_data = np.nan_to_num(tmp_data)\n",
    "    fmri_data_dict[story] = tmp_data\n",
    "    print(f\"story {story}: \\t{fmri_data_dict[story].shape[0]} TRs\\t {fmri_data_dict[story].shape[1]} voxels\")"
   ]
  },
  {
   "cell_type": "markdown",
   "metadata": {},
   "source": [
    "## Prepare Embeddings"
   ]
  },
  {
   "cell_type": "markdown",
   "metadata": {},
   "source": [
    "### Load Stimulus Embedding"
   ]
  },
  {
   "cell_type": "code",
   "execution_count": 14,
   "metadata": {},
   "outputs": [],
   "source": [
    "embeds_dict = {}\n",
    "for story in all_stories:\n",
    "    mats = []\n",
    "    with open(file_path_dict[\"word\"], \"rb\") as f:\n",
    "        mats.append(pickle.load(f)[story])\n",
    "    with open(file_path_dict[\"phoneme\"], \"rb\") as f:\n",
    "        mats.append(pickle.load(f)[story])\n",
    "    with open(file_path_dict[\"spectrum\"], \"rb\") as f:\n",
    "        mats.append(pickle.load(f)[story])\n",
    "\n",
    "    # trim to shortest and concat\n",
    "    min_len = min(m.shape[0] for m in mats)\n",
    "    mats = [m[:min_len] for m in mats]\n",
    "    embeds = np.concatenate(mats, axis=1)\n",
    "\n",
    "    embeds_dict[story] = embeds"
   ]
  },
  {
   "cell_type": "markdown",
   "metadata": {},
   "source": [
    "### Aligning to TR Timing"
   ]
  },
  {
   "cell_type": "code",
   "execution_count": 15,
   "metadata": {},
   "outputs": [
    {
     "name": "stdout",
     "output_type": "stream",
     "text": [
      "souls\n",
      "avatar\n",
      "legacy\n",
      "odetostepfather\n",
      "howtodraw\n",
      "myfirstdaywiththeyankees\n",
      "naked\n",
      "life\n",
      "tildeath\n",
      "fromboyhoodtofatherhood\n",
      "Cut off 1 TR, for story fromboyhoodtofatherhood\n",
      "Cut off 1 TR, for story fromboyhoodtofatherhood\n",
      "Cut off 1 TR, for story fromboyhoodtofatherhood\n",
      "sloth\n",
      "exorcism\n",
      "adollshouse\n",
      "inamoment\n",
      "theclosetthatateeverything\n",
      "adventuresinsayingyes\n",
      "haveyoumethimyet\n",
      "thatthingonmyarm\n",
      "eyespy\n",
      "itsabox\n",
      "hangtime\n",
      "undertheinfluence1\n",
      "stagefright1\n",
      "buck1\n",
      "swimmingwithastronauts1\n"
     ]
    }
   ],
   "source": [
    "# get the embedding matrix step by TR\n",
    "TR_length = 2\n",
    "embed_TRs_dict = dict()\n",
    "\n",
    "for story in all_stories:\n",
    "\n",
    "    print(story)\n",
    "\n",
    "    # create a nTRs * size_embedding matrix\n",
    "    embeds_this_story = embeds_dict[story]\n",
    "    nTRs = fmri_data_dict[story].shape[0]\n",
    "    while nTRs * 100 + 500 > embeds_this_story.shape[0]:\n",
    "        nTRs -= 1\n",
    "        print(f\"Cut off 1 TR, for story {story}\")\n",
    "    fmri_data_dict[story] = fmri_data_dict[story][:nTRs]\n",
    "\n",
    "    TR_times = np.arange(1, nTRs + 1) * TR_length  # This is a bug in HW2\n",
    "    size_embedding = embeds_this_story.shape[1]\n",
    "    meg_embedding_TRs_this_story = np.zeros((nTRs, size_embedding))\n",
    "    for itr, tr in enumerate(TR_times):\n",
    "        meg_embedding_TRs_this_story[itr] = embeds_this_story[500 + itr * 100 : 500 + (itr + 1) * 100].mean(0)\n",
    "\n",
    "    embed_TRs_dict[story] = meg_embedding_TRs_this_story"
   ]
  },
  {
   "cell_type": "markdown",
   "metadata": {},
   "source": [
    "### Z-Score"
   ]
  },
  {
   "cell_type": "code",
   "execution_count": 16,
   "metadata": {},
   "outputs": [
    {
     "name": "stdout",
     "output_type": "stream",
     "text": [
      "souls\n",
      "avatar\n",
      "legacy\n",
      "odetostepfather\n",
      "howtodraw\n",
      "myfirstdaywiththeyankees\n",
      "naked\n",
      "life\n",
      "tildeath\n",
      "fromboyhoodtofatherhood\n",
      "sloth\n",
      "exorcism\n",
      "adollshouse\n",
      "inamoment\n",
      "theclosetthatateeverything\n",
      "adventuresinsayingyes\n",
      "haveyoumethimyet\n",
      "thatthingonmyarm\n",
      "eyespy\n",
      "itsabox\n",
      "hangtime\n"
     ]
    }
   ],
   "source": [
    "# get the standard scaler from the training matrix\n",
    "train_design_matrices = []\n",
    "for story in train_stories:\n",
    "    print(story)\n",
    "    story_embed_TRs = embed_TRs_dict[story]\n",
    "    train_design_matrices.append(story_embed_TRs)\n",
    "\n",
    "# concatenate all training design matrices\n",
    "train_design_matrix = np.concatenate(train_design_matrices, axis=0)\n",
    "del train_design_matrices\n",
    "\n",
    "# normalization\n",
    "scaler = StandardScaler()\n",
    "scaler.fit(train_design_matrix)\n",
    "del train_design_matrix"
   ]
  },
  {
   "cell_type": "code",
   "execution_count": 17,
   "metadata": {},
   "outputs": [
    {
     "name": "stdout",
     "output_type": "stream",
     "text": [
      "souls\n",
      "avatar\n",
      "legacy\n",
      "odetostepfather\n",
      "howtodraw\n",
      "myfirstdaywiththeyankees\n",
      "naked\n",
      "life\n",
      "tildeath\n",
      "fromboyhoodtofatherhood\n",
      "sloth\n",
      "exorcism\n",
      "adollshouse\n",
      "inamoment\n",
      "theclosetthatateeverything\n",
      "adventuresinsayingyes\n",
      "haveyoumethimyet\n",
      "thatthingonmyarm\n",
      "eyespy\n",
      "itsabox\n",
      "hangtime\n",
      "undertheinfluence1\n",
      "stagefright1\n",
      "buck1\n",
      "swimmingwithastronauts1\n"
     ]
    }
   ],
   "source": [
    "for story in all_stories:\n",
    "    print(story)\n",
    "    story_embed_TRs = embed_TRs_dict[story]\n",
    "    story_embed_TRs = scaler.transform(story_embed_TRs)\n",
    "    embed_TRs_dict[story] = story_embed_TRs"
   ]
  },
  {
   "cell_type": "markdown",
   "metadata": {},
   "source": [
    "### Get Delayed Embeddings"
   ]
  },
  {
   "cell_type": "code",
   "execution_count": 18,
   "metadata": {},
   "outputs": [],
   "source": [
    "# delay functions\n",
    "def delay_one(mat, d):\n",
    "    # delays a matrix by a delay d. Positive d ==> row t has row t-d\n",
    "    new_mat = np.zeros_like(mat)\n",
    "    if d > 0:\n",
    "        new_mat[d:] = mat[:-d]\n",
    "    elif d < 0:\n",
    "        new_mat[:d] = mat[-d:]\n",
    "    else:\n",
    "        new_mat = mat\n",
    "    return new_mat\n",
    "\n",
    "\n",
    "def delay_mat(mat, delays):\n",
    "    # delays a matrix by a set of delays d.\n",
    "    # a row t in the returned matrix has the concatenated:\n",
    "    # row(t-delays[0],t-delays[1]...t-delays[last] )\n",
    "    new_mat = np.concatenate([delay_one(mat, d) for d in delays], axis=-1)\n",
    "    return new_mat"
   ]
  },
  {
   "cell_type": "code",
   "execution_count": 19,
   "metadata": {},
   "outputs": [],
   "source": [
    "delays = np.arange(1, 5)\n",
    "embed_TRs_delayed_dict = dict([(story, delay_mat(mat, delays)) for story, mat in embed_TRs_dict.items()])"
   ]
  },
  {
   "cell_type": "code",
   "execution_count": 20,
   "metadata": {},
   "outputs": [
    {
     "data": {
      "text/plain": [
       "<matplotlib.image.AxesImage at 0x7ba47ec89a60>"
      ]
     },
     "execution_count": 20,
     "metadata": {},
     "output_type": "execute_result"
    },
    {
     "data": {
      "image/png": "[encoded data removed]",
      "text/plain": [
       "<Figure size 640x480 with 1 Axes>"
      ]
     },
     "metadata": {},
     "output_type": "display_data"
    }
   ],
   "source": [
    "# example\n",
    "s = embed_TRs_dict[\"souls\"].shape[1]\n",
    "plt.imshow(embed_TRs_delayed_dict[\"souls\"][:10, [0, s, s * 2, s * 3]])"
   ]
  },
  {
   "cell_type": "markdown",
   "metadata": {},
   "source": [
    "## Prepare Train and Test Data\n",
    "\n",
    "(From Leila) Typically, we always zscore **each run** (i.e., in this case, each story) of data separately."
   ]
  },
  {
   "cell_type": "code",
   "execution_count": 21,
   "metadata": {},
   "outputs": [
    {
     "name": "stdout",
     "output_type": "stream",
     "text": [
      "train meg embedding shape: (7801, 3408)\n",
      "train fmri data shape: (7801, 8196)\n"
     ]
    }
   ],
   "source": [
    "# get trainning meg embeddings and fmri data\n",
    "train_embeds = np.concatenate([embed_TRs_delayed_dict[this_story] for this_story in train_stories], axis=0)\n",
    "train_fmri_data = np.concatenate([nan_zscore(fmri_data_dict[this_story]) for this_story in train_stories], axis=0)\n",
    "print(\"train meg embedding shape:\", train_embeds.shape)\n",
    "print(\"train fmri data shape:\", train_fmri_data.shape)"
   ]
  },
  {
   "cell_type": "code",
   "execution_count": 22,
   "metadata": {},
   "outputs": [
    {
     "name": "stdout",
     "output_type": "stream",
     "text": [
      "test meg embedding shape: (1314, 3408)\n",
      "test fmri data shape: (1314, 8196)\n"
     ]
    }
   ],
   "source": [
    "# get test meg embeddings and fmri data\n",
    "test_embeds = np.concatenate([embed_TRs_delayed_dict[this_story] for this_story in test_stories], axis=0)\n",
    "test_fmri_data = np.concatenate([nan_zscore(fmri_data_dict[this_story]) for this_story in test_stories], axis=0)\n",
    "print(\"test meg embedding shape:\", test_embeds.shape)\n",
    "print(\"test fmri data shape:\", test_fmri_data.shape)"
   ]
  },
  {
   "cell_type": "markdown",
   "metadata": {},
   "source": [
    "## Fit Ridge"
   ]
  },
  {
   "cell_type": "code",
   "execution_count": 23,
   "metadata": {},
   "outputs": [
    {
     "name": "stdout",
     "output_type": "stream",
     "text": [
      "cuda\n"
     ]
    }
   ],
   "source": [
    "from src.model_fitting_funcs import ridge_fit_predict_torch\n",
    "import torch\n",
    "\n",
    "device = torch.device(\"cuda\" if torch.cuda.is_available() else \"cpu\")\n",
    "print(device)"
   ]
  },
  {
   "cell_type": "code",
   "execution_count": 24,
   "metadata": {},
   "outputs": [
    {
     "name": "stdout",
     "output_type": "stream",
     "text": [
      "Time taken for one fold: 1.11 sec\n",
      "Time taken for one fold: 0.56 sec\n",
      "Time taken for one fold: 0.56 sec\n",
      "Time taken for one fold: 0.56 sec\n",
      "Time taken for one fold: 0.56 sec\n"
     ]
    }
   ],
   "source": [
    "# fit ridge regression\n",
    "n_splits = 5\n",
    "alphas = [10**j for j in range(-6, 10)]\n",
    "corrs, r2s, weights = ridge_fit_predict_torch(train_embeds, train_fmri_data, test_embeds, test_fmri_data, n_splits=n_splits, alphas=alphas, return_coefs=True, device=device)"
   ]
  },
  {
   "cell_type": "code",
   "execution_count": 25,
   "metadata": {},
   "outputs": [
    {
     "data": {
      "image/png": "[encoded data removed]",
      "text/plain": [
       "<Figure size 640x480 with 1 Axes>"
      ]
     },
     "metadata": {},
     "output_type": "display_data"
    }
   ],
   "source": [
    "plt.hist(corrs, bins=np.arange(-0.2, 1, 0.05))\n",
    "plt.title(\"Corr Fmri\")\n",
    "plt.xlabel(\"Corr\")\n",
    "plt.ylabel(\"Frequency\")\n",
    "plt.show()"
   ]
  }
 ],
 "metadata": {
  "kernelspec": {
   "display_name": "meg_torch",
   "language": "python",
   "name": "python3"
  },
  "language_info": {
   "codemirror_mode": {
    "name": "ipython",
    "version": 3
   },
   "file_extension": ".py",
   "mimetype": "text/x-python",
   "name": "python",
   "nbconvert_exporter": "python",
   "pygments_lexer": "ipython3",
   "version": "3.9.21"
  }
 },
 "nbformat": 4,
 "nbformat_minor": 2
}
